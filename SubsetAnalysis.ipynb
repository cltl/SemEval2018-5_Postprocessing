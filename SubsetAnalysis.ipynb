{
 "cells": [
  {
   "cell_type": "code",
   "execution_count": null,
   "metadata": {
    "collapsed": true
   },
   "outputs": [],
   "source": [
    "import glob\n",
    "import sys\n",
    "import json"
   ]
  },
  {
   "cell_type": "code",
   "execution_count": null,
   "metadata": {
    "collapsed": true
   },
   "outputs": [],
   "source": [
    "submission_dir='submissions/'\n",
    "gold_dir='ref/'\n",
    "input_dir='input/'\n",
    "\n",
    "answers_file='answers.json'\n",
    "questions_file='questions.json'\n",
    "\n",
    "subtasks=['s1','s2','s3']"
   ]
  },
  {
   "cell_type": "code",
   "execution_count": null,
   "metadata": {},
   "outputs": [],
   "source": [
    "# Preload questions\n",
    "questions={}\n",
    "for subtask in subtasks:\n",
    "    subtask_questions_file='%s/%s/%s' % (input_dir, subtask, questions_file)\n",
    "    with open(subtask_questions_file, 'r') as f:\n",
    "        questions[subtask]=json.load(f)"
   ]
  },
  {
   "cell_type": "code",
   "execution_count": null,
   "metadata": {},
   "outputs": [],
   "source": [
    "gold={}\n",
    "for subtask in subtasks:\n",
    "    subtask_gold_file='%s/%s/%s' % (gold_dir, subtask, answers_file)\n",
    "    with open(subtask_gold_file, 'r') as f:\n",
    "        gold[subtask]=json.load(f)"
   ]
  },
  {
   "cell_type": "code",
   "execution_count": null,
   "metadata": {},
   "outputs": [],
   "source": [
    "def compute_subset_accuracy(ques, anss, gold, event_type=None, event_prop=None):\n",
    "    correct=0\n",
    "    total=0\n",
    "    for qid, adata in anss.items():\n",
    "        if event_type and event_type!=ques[qid]['event_type']:\n",
    "            continue\n",
    "        if event_prop and event_prop not in ques[qid].keys():\n",
    "            continue\n",
    "        num_answer=adata['numerical_answer']\n",
    "        if num_answer==gold[qid]['numerical_answer']:\n",
    "            correct+=1\n",
    "        total+=1\n",
    "    print(correct, total)\n",
    "    return correct/total"
   ]
  },
  {
   "cell_type": "code",
   "execution_count": null,
   "metadata": {},
   "outputs": [],
   "source": [
    "for user_submission_dir in glob.glob('%s/*' % submission_dir):\n",
    "    print(user_submission_dir)\n",
    "    for subtask_user_submission_dir in glob.glob('%s/*' % user_submission_dir):\n",
    "        subtask=subtask_user_submission_dir.split('/')[-1]\n",
    "        print(subtask)\n",
    "        this_answers_file='%s/%s' % (subtask_user_submission_dir, answers_file)\n",
    "        with open(this_answers_file, 'r') as f:\n",
    "            answers = json.load(f)\n",
    "            acc=compute_subset_accuracy(questions[subtask], \n",
    "                                    answers, \n",
    "                                    gold[subtask], \n",
    "                                    event_type='killing')\n",
    "            print(acc)\n"
   ]
  },
  {
   "cell_type": "code",
   "execution_count": null,
   "metadata": {
    "collapsed": true
   },
   "outputs": [],
   "source": []
  }
 ],
 "metadata": {
  "kernelspec": {
   "display_name": "Python 3",
   "language": "python",
   "name": "python3"
  },
  "language_info": {
   "codemirror_mode": {
    "name": "ipython",
    "version": 3
   },
   "file_extension": ".py",
   "mimetype": "text/x-python",
   "name": "python",
   "nbconvert_exporter": "python",
   "pygments_lexer": "ipython3",
   "version": "3.6.1"
  }
 },
 "nbformat": 4,
 "nbformat_minor": 2
}
