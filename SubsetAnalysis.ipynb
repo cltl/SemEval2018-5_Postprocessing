{
 "cells": [
  {
   "cell_type": "code",
   "execution_count": null,
   "metadata": {
    "collapsed": true
   },
   "outputs": [],
   "source": [
    "import glob\n",
    "import sys\n",
    "import json\n",
    "import os\n",
    "import pandas as pd"
   ]
  },
  {
   "cell_type": "code",
   "execution_count": null,
   "metadata": {
    "collapsed": true
   },
   "outputs": [],
   "source": [
    "submission_dir='submissions/'\n",
    "gold_dir='ref/'\n",
    "input_dir='input/'\n",
    "\n",
    "answers_file='answers.json'\n",
    "questions_file='questions.json'\n",
    "\n",
    "subtasks=['s1','s2','s3']\n",
    "event_types = {'injuring', 'killing', 'fire_burning', 'job_firing'}\n",
    "event_props = {'participant', 'location', 'time'}"
   ]
  },
  {
   "cell_type": "code",
   "execution_count": null,
   "metadata": {
    "collapsed": true
   },
   "outputs": [],
   "source": [
    "# Preload questions\n",
    "questions={}\n",
    "for subtask in subtasks:\n",
    "    subtask_questions_file='%s/%s/%s' % (input_dir, subtask, questions_file)\n",
    "    with open(subtask_questions_file, 'r') as f:\n",
    "        questions[subtask]=json.load(f)"
   ]
  },
  {
   "cell_type": "code",
   "execution_count": null,
   "metadata": {
    "collapsed": true
   },
   "outputs": [],
   "source": [
    "gold={}\n",
    "for subtask in subtasks:\n",
    "    subtask_gold_file='%s/%s/%s' % (gold_dir, subtask, answers_file)\n",
    "    with open(subtask_gold_file, 'r') as f:\n",
    "        gold[subtask]=json.load(f)"
   ]
  },
  {
   "cell_type": "code",
   "execution_count": null,
   "metadata": {
    "collapsed": true
   },
   "outputs": [],
   "source": [
    "def compute_subset_accuracy(ques, anss, gold, event_type=None, event_prop=None):\n",
    "    correct=0\n",
    "    total=0\n",
    "    for qid, adata in anss.items():\n",
    "        if event_type and event_type!=ques[qid]['event_type']:\n",
    "            continue\n",
    "        if event_prop and event_prop not in ques[qid].keys():\n",
    "            continue\n",
    "        num_answer=adata['numerical_answer']\n",
    "        if num_answer==gold[qid]['numerical_answer']:\n",
    "            correct+=1\n",
    "        total+=1\n",
    "    print('correct=', correct, 'total=', total)\n",
    "    if total>0:\n",
    "        return round(correct/total, 4), total\n",
    "    else:\n",
    "        return 0, 0"
   ]
  },
  {
   "cell_type": "code",
   "execution_count": null,
   "metadata": {},
   "outputs": [],
   "source": [
    "data_json={}\n",
    "for user_submission_dir in glob.glob('%s/*' % submission_dir):\n",
    "    user=user_submission_dir.split('/')[-1]\n",
    "    print('USER', user)\n",
    "    print('='*20)\n",
    "    data_json[user]={}\n",
    "    for subtask_user_submission_dir in glob.glob('%s/*' % user_submission_dir):\n",
    "        subtask=subtask_user_submission_dir.split('/')[-1]\n",
    "        if subtask=='s1': continue\n",
    "        this_answers_file='%s/%s' % (subtask_user_submission_dir, answers_file)\n",
    "        if not os.path.exists(this_answers_file):\n",
    "            continue\n",
    "        print('SUBTASK', subtask)\n",
    "        print('='*20)\n",
    "        with open(this_answers_file, 'r') as f:\n",
    "            answers = json.load(f)\n",
    "            for event_type in event_types:\n",
    "                print(event_type)\n",
    "                acc, total=compute_subset_accuracy(questions[subtask], \n",
    "                                        answers, \n",
    "                                        gold[subtask], \n",
    "                                        event_type=event_type)\n",
    "                k='%s_et_%s' % (subtask, event_type)\n",
    "                data_json[user][k]='%f (%d)' % (round(acc,4), total)\n",
    "                print('ACC=', acc)\n",
    "                print()\n",
    "                \n",
    "            for event_property in event_props:\n",
    "                print(event_property)\n",
    "                acc, total=compute_subset_accuracy(questions[subtask], \n",
    "                        answers,\n",
    "                        gold[subtask], \n",
    "                        event_prop=event_property)\n",
    "                k='%s_ep_%s' % (subtask, event_property)\n",
    "                data_json[user][k]='%f (%d)' % (round(acc,4), total)\n",
    "                print('ACC=', acc)\n",
    "                print()\n",
    "\n",
    "                "
   ]
  },
  {
   "cell_type": "code",
   "execution_count": null,
   "metadata": {
    "collapsed": true
   },
   "outputs": [],
   "source": [
    "df=pd.DataFrame.from_dict(data_json)"
   ]
  },
  {
   "cell_type": "code",
   "execution_count": null,
   "metadata": {
    "collapsed": true
   },
   "outputs": [],
   "source": [
    "df.to_csv('acc.tsv', sep='\\t')"
   ]
  },
  {
   "cell_type": "code",
   "execution_count": null,
   "metadata": {
    "collapsed": true
   },
   "outputs": [],
   "source": []
  }
 ],
 "metadata": {
  "kernelspec": {
   "display_name": "Python 3",
   "language": "python",
   "name": "python3"
  },
  "language_info": {
   "codemirror_mode": {
    "name": "ipython",
    "version": 3
   },
   "file_extension": ".py",
   "mimetype": "text/x-python",
   "name": "python",
   "nbconvert_exporter": "python",
   "pygments_lexer": "ipython3",
   "version": "3.6.1"
  }
 },
 "nbformat": 4,
 "nbformat_minor": 2
}
